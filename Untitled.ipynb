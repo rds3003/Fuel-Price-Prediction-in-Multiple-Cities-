{
 "cells": [
  {
   "cell_type": "code",
   "execution_count": 1,
   "id": "3c6a8726",
   "metadata": {},
   "outputs": [],
   "source": [
    "import pandas as pd\n",
    "import numpy as np\n",
    "from xgboost import XGBRegressor\n",
    "from sklearn.metrics import mean_absolute_error, mean_squared_error, r2_score\n",
    "from sklearn.model_selection import train_test_split\n",
    "from bayes_opt import BayesianOptimization\n",
    "\n",
    "# Load the data\n",
    "file_path = 'date-wise-retail-selling-price-of-petrol-and-diesel-in-metro-cities.xlsx'\n",
    "data = pd.read_excel(file_path)\n",
    "\n",
    "# Preprocess the data\n",
    "data['date'] = pd.to_datetime(data['date'], format='%Y-%m-%d')\n",
    "data['day'] = data['date'].dt.day\n",
    "data['month'] = data['date'].dt.month\n",
    "data['year'] = data['date'].dt.year\n",
    "\n",
    "# Encode categorical data\n",
    "data = pd.get_dummies(data, columns=['city', 'fuel_type'], drop_first=True)\n",
    "\n",
    "# Sort the data by date\n",
    "data = data.sort_values(by='date')\n",
    "\n",
    "# Prepare the dataset\n",
    "X = data[['day', 'month', 'year'] + [col for col in data.columns if col.startswith('city_') or col.startswith('fuel_type_')]]\n",
    "y = data['value']\n",
    "\n",
    "# Split the data into training and testing sets\n",
    "X_train, X_test, y_train, y_test = train_test_split(X, y, test_size=0.2, random_state=42, shuffle=False)"
   ]
  },
  {
   "cell_type": "code",
   "execution_count": 2,
   "id": "07e513ec",
   "metadata": {},
   "outputs": [
    {
     "name": "stdout",
     "output_type": "stream",
     "text": [
      "|   iter    |  target   |   alpha   | colsam... |   gamma   |   lambd   | learni... | max_depth | min_ch... | n_esti... | subsample |\n",
      "-------------------------------------------------------------------------------------------------------------------------------------\n",
      "| \u001b[39m1        \u001b[39m | \u001b[39m-2.946   \u001b[39m | \u001b[39m0.3745   \u001b[39m | \u001b[39m0.9556   \u001b[39m | \u001b[39m0.732    \u001b[39m | \u001b[39m0.5987   \u001b[39m | \u001b[39m0.05525  \u001b[39m | \u001b[39m4.092    \u001b[39m | \u001b[39m1.523    \u001b[39m | \u001b[39m879.6    \u001b[39m | \u001b[39m0.8006   \u001b[39m |\n",
      "| \u001b[39m2        \u001b[39m | \u001b[39m-3.299   \u001b[39m | \u001b[39m0.7081   \u001b[39m | \u001b[39m0.1185   \u001b[39m | \u001b[39m0.9699   \u001b[39m | \u001b[39m0.8324   \u001b[39m | \u001b[39m0.07158  \u001b[39m | \u001b[39m4.273    \u001b[39m | \u001b[39m2.651    \u001b[39m | \u001b[39m373.8    \u001b[39m | \u001b[39m0.7624   \u001b[39m |\n",
      "| \u001b[39m3        \u001b[39m | \u001b[39m-3.551   \u001b[39m | \u001b[39m0.4319   \u001b[39m | \u001b[39m0.3621   \u001b[39m | \u001b[39m0.6119   \u001b[39m | \u001b[39m0.1395   \u001b[39m | \u001b[39m0.09472  \u001b[39m | \u001b[39m5.565    \u001b[39m | \u001b[39m5.105    \u001b[39m | \u001b[39m806.7    \u001b[39m | \u001b[39m0.5998   \u001b[39m |\n",
      "| \u001b[35m4        \u001b[39m | \u001b[35m-2.938   \u001b[39m | \u001b[35m0.5142   \u001b[39m | \u001b[35m0.6332   \u001b[39m | \u001b[35m0.04645  \u001b[39m | \u001b[35m0.6075   \u001b[39m | \u001b[35m0.05945  \u001b[39m | \u001b[35m3.455    \u001b[39m | \u001b[35m9.54     \u001b[39m | \u001b[35m969.1    \u001b[39m | \u001b[35m0.9042   \u001b[39m |\n",
      "| \u001b[39m5        \u001b[39m | \u001b[39m-4.052   \u001b[39m | \u001b[39m0.3046   \u001b[39m | \u001b[39m0.1879   \u001b[39m | \u001b[39m0.6842   \u001b[39m | \u001b[39m0.4402   \u001b[39m | \u001b[39m0.04539  \u001b[39m | \u001b[39m6.466    \u001b[39m | \u001b[39m1.309    \u001b[39m | \u001b[39m918.4    \u001b[39m | \u001b[39m0.6294   \u001b[39m |\n",
      "| \u001b[39m6        \u001b[39m | \u001b[39m-3.733   \u001b[39m | \u001b[39m0.6625   \u001b[39m | \u001b[39m0.3805   \u001b[39m | \u001b[39m0.5201   \u001b[39m | \u001b[39m0.5467   \u001b[39m | \u001b[39m0.06361  \u001b[39m | \u001b[39m9.787    \u001b[39m | \u001b[39m7.976    \u001b[39m | \u001b[39m945.5    \u001b[39m | \u001b[39m0.9474   \u001b[39m |\n",
      "| \u001b[35m7        \u001b[39m | \u001b[35m-2.427   \u001b[39m | \u001b[35m0.5979   \u001b[39m | \u001b[35m0.9297   \u001b[39m | \u001b[35m0.08849  \u001b[39m | \u001b[35m0.196    \u001b[39m | \u001b[35m0.02312  \u001b[39m | \u001b[35m5.277    \u001b[39m | \u001b[35m4.498    \u001b[39m | \u001b[35m344.2    \u001b[39m | \u001b[35m0.9144   \u001b[39m |\n",
      "| \u001b[39m8        \u001b[39m | \u001b[39m-2.968   \u001b[39m | \u001b[39m0.3568   \u001b[39m | \u001b[39m0.3528   \u001b[39m | \u001b[39m0.5427   \u001b[39m | \u001b[39m0.1409   \u001b[39m | \u001b[39m0.2426   \u001b[39m | \u001b[39m3.522    \u001b[39m | \u001b[39m9.882    \u001b[39m | \u001b[39m795.0    \u001b[39m | \u001b[39m0.5994   \u001b[39m |\n",
      "| \u001b[39m9        \u001b[39m | \u001b[39m-3.136   \u001b[39m | \u001b[39m0.005522 \u001b[39m | \u001b[39m0.8339   \u001b[39m | \u001b[39m0.7069   \u001b[39m | \u001b[39m0.729    \u001b[39m | \u001b[39m0.2337   \u001b[39m | \u001b[39m3.518    \u001b[39m | \u001b[39m4.226    \u001b[39m | \u001b[39m204.3    \u001b[39m | \u001b[39m0.9316   \u001b[39m |\n",
      "| \u001b[39m10       \u001b[39m | \u001b[39m-3.894   \u001b[39m | \u001b[39m0.6233   \u001b[39m | \u001b[39m0.3978   \u001b[39m | \u001b[39m0.06356  \u001b[39m | \u001b[39m0.311    \u001b[39m | \u001b[39m0.1043   \u001b[39m | \u001b[39m8.107    \u001b[39m | \u001b[39m6.738    \u001b[39m | \u001b[39m898.5    \u001b[39m | \u001b[39m0.7361   \u001b[39m |\n",
      "| \u001b[39m11       \u001b[39m | \u001b[39m-2.83    \u001b[39m | \u001b[39m0.4522   \u001b[39m | \u001b[39m0.9405   \u001b[39m | \u001b[39m0.3162   \u001b[39m | \u001b[39m0.5072   \u001b[39m | \u001b[39m0.02206  \u001b[39m | \u001b[39m4.038    \u001b[39m | \u001b[39m9.88     \u001b[39m | \u001b[39m968.6    \u001b[39m | \u001b[39m0.5025   \u001b[39m |\n",
      "| \u001b[39m12       \u001b[39m | \u001b[39m-2.59    \u001b[39m | \u001b[39m0.6373   \u001b[39m | \u001b[39m0.8144   \u001b[39m | \u001b[39m0.5071   \u001b[39m | \u001b[39m0.2954   \u001b[39m | \u001b[39m0.0439   \u001b[39m | \u001b[39m4.557    \u001b[39m | \u001b[39m1.508    \u001b[39m | \u001b[39m340.1    \u001b[39m | \u001b[39m0.5608   \u001b[39m |\n",
      "| \u001b[39m13       \u001b[39m | \u001b[39m-2.724   \u001b[39m | \u001b[39m1.0      \u001b[39m | \u001b[39m0.4681   \u001b[39m | \u001b[39m0.0      \u001b[39m | \u001b[39m0.0      \u001b[39m | \u001b[39m0.3      \u001b[39m | \u001b[39m8.626    \u001b[39m | \u001b[39m10.0     \u001b[39m | \u001b[39m339.7    \u001b[39m | \u001b[39m1.0      \u001b[39m |\n",
      "| \u001b[39m14       \u001b[39m | \u001b[39m-4.492   \u001b[39m | \u001b[39m1.0      \u001b[39m | \u001b[39m0.1      \u001b[39m | \u001b[39m1.0      \u001b[39m | \u001b[39m1.0      \u001b[39m | \u001b[39m0.3      \u001b[39m | \u001b[39m10.0     \u001b[39m | \u001b[39m1.0      \u001b[39m | \u001b[39m350.2    \u001b[39m | \u001b[39m0.5      \u001b[39m |\n",
      "| \u001b[35m15       \u001b[39m | \u001b[35m-1.736   \u001b[39m | \u001b[35m0.2722   \u001b[39m | \u001b[35m1.0      \u001b[39m | \u001b[35m0.0      \u001b[39m | \u001b[35m0.0      \u001b[39m | \u001b[35m0.01     \u001b[39m | \u001b[35m3.0      \u001b[39m | \u001b[35m6.913    \u001b[39m | \u001b[35m340.9    \u001b[39m | \u001b[35m1.0      \u001b[39m |\n",
      "| \u001b[39m16       \u001b[39m | \u001b[39m-9.542   \u001b[39m | \u001b[39m0.0      \u001b[39m | \u001b[39m0.1      \u001b[39m | \u001b[39m1.0      \u001b[39m | \u001b[39m0.0      \u001b[39m | \u001b[39m0.01     \u001b[39m | \u001b[39m3.0      \u001b[39m | \u001b[39m10.0     \u001b[39m | \u001b[39m343.7    \u001b[39m | \u001b[39m0.5      \u001b[39m |\n",
      "| \u001b[39m17       \u001b[39m | \u001b[39m-2.202   \u001b[39m | \u001b[39m0.4514   \u001b[39m | \u001b[39m1.0      \u001b[39m | \u001b[39m0.0      \u001b[39m | \u001b[39m0.09523  \u001b[39m | \u001b[39m0.01922  \u001b[39m | \u001b[39m3.86     \u001b[39m | \u001b[39m5.087    \u001b[39m | \u001b[39m341.4    \u001b[39m | \u001b[39m0.9815   \u001b[39m |\n",
      "| \u001b[39m18       \u001b[39m | \u001b[39m-2.175   \u001b[39m | \u001b[39m0.3499   \u001b[39m | \u001b[39m1.0      \u001b[39m | \u001b[39m0.0      \u001b[39m | \u001b[39m0.0      \u001b[39m | \u001b[39m0.01922  \u001b[39m | \u001b[39m3.0      \u001b[39m | \u001b[39m5.992    \u001b[39m | \u001b[39m338.9    \u001b[39m | \u001b[39m1.0      \u001b[39m |\n",
      "| \u001b[39m19       \u001b[39m | \u001b[39m-2.802   \u001b[39m | \u001b[39m1.0      \u001b[39m | \u001b[39m1.0      \u001b[39m | \u001b[39m0.0      \u001b[39m | \u001b[39m0.0      \u001b[39m | \u001b[39m0.2085   \u001b[39m | \u001b[39m5.542    \u001b[39m | \u001b[39m6.93     \u001b[39m | \u001b[39m339.7    \u001b[39m | \u001b[39m1.0      \u001b[39m |\n",
      "| \u001b[39m20       \u001b[39m | \u001b[39m-2.269   \u001b[39m | \u001b[39m0.0      \u001b[39m | \u001b[39m1.0      \u001b[39m | \u001b[39m0.0      \u001b[39m | \u001b[39m1.0      \u001b[39m | \u001b[39m0.01     \u001b[39m | \u001b[39m7.256    \u001b[39m | \u001b[39m3.137    \u001b[39m | \u001b[39m341.9    \u001b[39m | \u001b[39m1.0      \u001b[39m |\n",
      "| \u001b[39m21       \u001b[39m | \u001b[39m-2.457   \u001b[39m | \u001b[39m1.0      \u001b[39m | \u001b[39m1.0      \u001b[39m | \u001b[39m0.0      \u001b[39m | \u001b[39m0.0      \u001b[39m | \u001b[39m0.3      \u001b[39m | \u001b[39m9.134    \u001b[39m | \u001b[39m5.31     \u001b[39m | \u001b[39m343.2    \u001b[39m | \u001b[39m1.0      \u001b[39m |\n",
      "| \u001b[39m22       \u001b[39m | \u001b[39m-4.523   \u001b[39m | \u001b[39m1.0      \u001b[39m | \u001b[39m0.1      \u001b[39m | \u001b[39m0.0      \u001b[39m | \u001b[39m0.0      \u001b[39m | \u001b[39m0.3      \u001b[39m | \u001b[39m6.191    \u001b[39m | \u001b[39m1.048    \u001b[39m | \u001b[39m343.8    \u001b[39m | \u001b[39m0.5      \u001b[39m |\n",
      "| \u001b[39m23       \u001b[39m | \u001b[39m-2.333   \u001b[39m | \u001b[39m0.0      \u001b[39m | \u001b[39m1.0      \u001b[39m | \u001b[39m1.0      \u001b[39m | \u001b[39m1.0      \u001b[39m | \u001b[39m0.01     \u001b[39m | \u001b[39m8.836    \u001b[39m | \u001b[39m4.953    \u001b[39m | \u001b[39m340.1    \u001b[39m | \u001b[39m1.0      \u001b[39m |\n",
      "| \u001b[39m24       \u001b[39m | \u001b[39m-2.076   \u001b[39m | \u001b[39m0.0      \u001b[39m | \u001b[39m1.0      \u001b[39m | \u001b[39m0.0      \u001b[39m | \u001b[39m1.0      \u001b[39m | \u001b[39m0.01     \u001b[39m | \u001b[39m6.624    \u001b[39m | \u001b[39m3.25     \u001b[39m | \u001b[39m338.2    \u001b[39m | \u001b[39m1.0      \u001b[39m |\n",
      "| \u001b[39m25       \u001b[39m | \u001b[39m-2.413   \u001b[39m | \u001b[39m1.0      \u001b[39m | \u001b[39m1.0      \u001b[39m | \u001b[39m0.0      \u001b[39m | \u001b[39m0.0      \u001b[39m | \u001b[39m0.01     \u001b[39m | \u001b[39m9.295    \u001b[39m | \u001b[39m1.975    \u001b[39m | \u001b[39m339.0    \u001b[39m | \u001b[39m1.0      \u001b[39m |\n",
      "| \u001b[39m26       \u001b[39m | \u001b[39m-9.74    \u001b[39m | \u001b[39m1.0      \u001b[39m | \u001b[39m0.1      \u001b[39m | \u001b[39m1.0      \u001b[39m | \u001b[39m0.0      \u001b[39m | \u001b[39m0.01     \u001b[39m | \u001b[39m6.44     \u001b[39m | \u001b[39m1.043    \u001b[39m | \u001b[39m336.3    \u001b[39m | \u001b[39m0.5      \u001b[39m |\n",
      "| \u001b[39m27       \u001b[39m | \u001b[39m-9.362   \u001b[39m | \u001b[39m0.0      \u001b[39m | \u001b[39m0.1      \u001b[39m | \u001b[39m1.0      \u001b[39m | \u001b[39m1.0      \u001b[39m | \u001b[39m0.01     \u001b[39m | \u001b[39m5.851    \u001b[39m | \u001b[39m4.356    \u001b[39m | \u001b[39m340.1    \u001b[39m | \u001b[39m1.0      \u001b[39m |\n",
      "| \u001b[39m28       \u001b[39m | \u001b[39m-2.774   \u001b[39m | \u001b[39m0.6787   \u001b[39m | \u001b[39m1.0      \u001b[39m | \u001b[39m0.0      \u001b[39m | \u001b[39m0.0      \u001b[39m | \u001b[39m0.07453  \u001b[39m | \u001b[39m3.539    \u001b[39m | \u001b[39m6.078    \u001b[39m | \u001b[39m340.3    \u001b[39m | \u001b[39m0.9893   \u001b[39m |\n",
      "| \u001b[35m29       \u001b[39m | \u001b[35m-1.735   \u001b[39m | \u001b[35m0.0      \u001b[39m | \u001b[35m1.0      \u001b[39m | \u001b[35m0.0      \u001b[39m | \u001b[35m0.0      \u001b[39m | \u001b[35m0.01     \u001b[39m | \u001b[35m3.0      \u001b[39m | \u001b[35m6.066    \u001b[39m | \u001b[35m342.0    \u001b[39m | \u001b[35m1.0      \u001b[39m |\n",
      "| \u001b[39m30       \u001b[39m | \u001b[39m-1.856   \u001b[39m | \u001b[39m1.0      \u001b[39m | \u001b[39m1.0      \u001b[39m | \u001b[39m0.0      \u001b[39m | \u001b[39m0.0      \u001b[39m | \u001b[39m0.01     \u001b[39m | \u001b[39m4.115    \u001b[39m | \u001b[39m6.608    \u001b[39m | \u001b[39m342.2    \u001b[39m | \u001b[39m1.0      \u001b[39m |\n",
      "| \u001b[39m31       \u001b[39m | \u001b[39m-3.017   \u001b[39m | \u001b[39m1.0      \u001b[39m | \u001b[39m1.0      \u001b[39m | \u001b[39m0.0      \u001b[39m | \u001b[39m0.0      \u001b[39m | \u001b[39m0.3      \u001b[39m | \u001b[39m3.48     \u001b[39m | \u001b[39m5.103    \u001b[39m | \u001b[39m343.2    \u001b[39m | \u001b[39m1.0      \u001b[39m |\n",
      "| \u001b[39m32       \u001b[39m | \u001b[39m-2.44    \u001b[39m | \u001b[39m0.4554   \u001b[39m | \u001b[39m1.0      \u001b[39m | \u001b[39m0.0      \u001b[39m | \u001b[39m0.5381   \u001b[39m | \u001b[39m0.06857  \u001b[39m | \u001b[39m9.206    \u001b[39m | \u001b[39m3.485    \u001b[39m | \u001b[39m341.2    \u001b[39m | \u001b[39m1.0      \u001b[39m |\n",
      "| \u001b[39m33       \u001b[39m | \u001b[39m-2.444   \u001b[39m | \u001b[39m0.0      \u001b[39m | \u001b[39m1.0      \u001b[39m | \u001b[39m0.0      \u001b[39m | \u001b[39m1.0      \u001b[39m | \u001b[39m0.02414  \u001b[39m | \u001b[39m8.759    \u001b[39m | \u001b[39m3.542    \u001b[39m | \u001b[39m338.5    \u001b[39m | \u001b[39m1.0      \u001b[39m |\n"
     ]
    },
    {
     "name": "stdout",
     "output_type": "stream",
     "text": [
      "| \u001b[39m34       \u001b[39m | \u001b[39m-2.269   \u001b[39m | \u001b[39m0.0      \u001b[39m | \u001b[39m1.0      \u001b[39m | \u001b[39m0.0      \u001b[39m | \u001b[39m1.0      \u001b[39m | \u001b[39m0.01     \u001b[39m | \u001b[39m7.814    \u001b[39m | \u001b[39m4.135    \u001b[39m | \u001b[39m343.8    \u001b[39m | \u001b[39m1.0      \u001b[39m |\n",
      "| \u001b[39m35       \u001b[39m | \u001b[39m-2.08    \u001b[39m | \u001b[39m0.7867   \u001b[39m | \u001b[39m1.0      \u001b[39m | \u001b[39m0.0      \u001b[39m | \u001b[39m0.0      \u001b[39m | \u001b[39m0.01     \u001b[39m | \u001b[39m6.683    \u001b[39m | \u001b[39m6.197    \u001b[39m | \u001b[39m343.3    \u001b[39m | \u001b[39m1.0      \u001b[39m |\n",
      "| \u001b[39m36       \u001b[39m | \u001b[39m-2.387   \u001b[39m | \u001b[39m0.5675   \u001b[39m | \u001b[39m1.0      \u001b[39m | \u001b[39m0.0      \u001b[39m | \u001b[39m0.224    \u001b[39m | \u001b[39m0.01     \u001b[39m | \u001b[39m8.684    \u001b[39m | \u001b[39m7.047    \u001b[39m | \u001b[39m341.3    \u001b[39m | \u001b[39m1.0      \u001b[39m |\n",
      "| \u001b[39m37       \u001b[39m | \u001b[39m-2.283   \u001b[39m | \u001b[39m0.0      \u001b[39m | \u001b[39m1.0      \u001b[39m | \u001b[39m1.0      \u001b[39m | \u001b[39m1.0      \u001b[39m | \u001b[39m0.01     \u001b[39m | \u001b[39m8.287    \u001b[39m | \u001b[39m6.719    \u001b[39m | \u001b[39m343.6    \u001b[39m | \u001b[39m0.5      \u001b[39m |\n",
      "| \u001b[39m38       \u001b[39m | \u001b[39m-2.228   \u001b[39m | \u001b[39m1.0      \u001b[39m | \u001b[39m1.0      \u001b[39m | \u001b[39m0.0      \u001b[39m | \u001b[39m0.5846   \u001b[39m | \u001b[39m0.01     \u001b[39m | \u001b[39m7.335    \u001b[39m | \u001b[39m5.843    \u001b[39m | \u001b[39m345.5    \u001b[39m | \u001b[39m0.5      \u001b[39m |\n",
      "| \u001b[39m39       \u001b[39m | \u001b[39m-4.469   \u001b[39m | \u001b[39m1.0      \u001b[39m | \u001b[39m0.1      \u001b[39m | \u001b[39m0.0      \u001b[39m | \u001b[39m0.0      \u001b[39m | \u001b[39m0.3      \u001b[39m | \u001b[39m8.346    \u001b[39m | \u001b[39m7.809    \u001b[39m | \u001b[39m344.2    \u001b[39m | \u001b[39m1.0      \u001b[39m |\n",
      "| \u001b[35m40       \u001b[39m | \u001b[35m-1.728   \u001b[39m | \u001b[35m0.0      \u001b[39m | \u001b[35m1.0      \u001b[39m | \u001b[35m0.0      \u001b[39m | \u001b[35m0.0      \u001b[39m | \u001b[35m0.01     \u001b[39m | \u001b[35m3.0      \u001b[39m | \u001b[35m8.246    \u001b[39m | \u001b[35m338.7    \u001b[39m | \u001b[35m1.0      \u001b[39m |\n",
      "=====================================================================================================================================\n"
     ]
    }
   ],
   "source": [
    "# Define the evaluation function for Bayesian Optimization\n",
    "def xgb_evaluate(min_child_weight, colsample_bytree, max_depth, subsample, gamma, alpha, lambd, learning_rate, n_estimators):\n",
    "    params = {\n",
    "        'min_child_weight': int(min_child_weight),\n",
    "        'colsample_bytree': colsample_bytree,\n",
    "        'max_depth': int(max_depth),\n",
    "        'subsample': subsample,\n",
    "        'gamma': gamma,\n",
    "        'reg_alpha': alpha,\n",
    "        'reg_lambda': lambd,\n",
    "        'learning_rate': learning_rate,\n",
    "        'n_estimators': int(n_estimators),\n",
    "        'eval_metric': 'mae'\n",
    "    }\n",
    "    \n",
    "    xgb_model = XGBRegressor(**params, random_state=42)\n",
    "    xgb_model.fit(X_train, y_train)\n",
    "    y_pred = xgb_model.predict(X_test)\n",
    "    mae = mean_absolute_error(y_test, y_pred)\n",
    "    \n",
    "    return -mae  # Negative MAE for maximization\n",
    "\n",
    "# Define the bounds of the hyperparameters for Bayesian Optimization\n",
    "pbounds = {\n",
    "    'min_child_weight': (1, 10),\n",
    "    'colsample_bytree': (0.1, 1.0),\n",
    "    'max_depth': (3, 10),\n",
    "    'subsample': (0.5, 1.0),\n",
    "    'gamma': (0, 1),\n",
    "    'alpha': (0, 1),\n",
    "    'lambd': (0, 1),\n",
    "    'learning_rate': (0.01, 0.3),\n",
    "    'n_estimators': (100, 1000)\n",
    "}\n",
    "\n",
    "# Perform Bayesian Optimization\n",
    "optimizer = BayesianOptimization(f=xgb_evaluate, pbounds=pbounds, random_state=42, verbose=2)\n",
    "optimizer.maximize(init_points=10, n_iter=30)"
   ]
  },
  {
   "cell_type": "code",
   "execution_count": 3,
   "id": "1169b2ad",
   "metadata": {},
   "outputs": [
    {
     "name": "stderr",
     "output_type": "stream",
     "text": [
      "/Users/rohan/anaconda3/lib/python3.11/site-packages/xgboost/core.py:158: UserWarning: [13:53:08] WARNING: /Users/runner/work/xgboost/xgboost/src/learner.cc:740: \n",
      "Parameters: { \"lambd\" } are not used.\n",
      "\n",
      "  warnings.warn(smsg, UserWarning)\n"
     ]
    },
    {
     "data": {
      "text/html": [
       "<style>#sk-container-id-1 {color: black;}#sk-container-id-1 pre{padding: 0;}#sk-container-id-1 div.sk-toggleable {background-color: white;}#sk-container-id-1 label.sk-toggleable__label {cursor: pointer;display: block;width: 100%;margin-bottom: 0;padding: 0.3em;box-sizing: border-box;text-align: center;}#sk-container-id-1 label.sk-toggleable__label-arrow:before {content: \"▸\";float: left;margin-right: 0.25em;color: #696969;}#sk-container-id-1 label.sk-toggleable__label-arrow:hover:before {color: black;}#sk-container-id-1 div.sk-estimator:hover label.sk-toggleable__label-arrow:before {color: black;}#sk-container-id-1 div.sk-toggleable__content {max-height: 0;max-width: 0;overflow: hidden;text-align: left;background-color: #f0f8ff;}#sk-container-id-1 div.sk-toggleable__content pre {margin: 0.2em;color: black;border-radius: 0.25em;background-color: #f0f8ff;}#sk-container-id-1 input.sk-toggleable__control:checked~div.sk-toggleable__content {max-height: 200px;max-width: 100%;overflow: auto;}#sk-container-id-1 input.sk-toggleable__control:checked~label.sk-toggleable__label-arrow:before {content: \"▾\";}#sk-container-id-1 div.sk-estimator input.sk-toggleable__control:checked~label.sk-toggleable__label {background-color: #d4ebff;}#sk-container-id-1 div.sk-label input.sk-toggleable__control:checked~label.sk-toggleable__label {background-color: #d4ebff;}#sk-container-id-1 input.sk-hidden--visually {border: 0;clip: rect(1px 1px 1px 1px);clip: rect(1px, 1px, 1px, 1px);height: 1px;margin: -1px;overflow: hidden;padding: 0;position: absolute;width: 1px;}#sk-container-id-1 div.sk-estimator {font-family: monospace;background-color: #f0f8ff;border: 1px dotted black;border-radius: 0.25em;box-sizing: border-box;margin-bottom: 0.5em;}#sk-container-id-1 div.sk-estimator:hover {background-color: #d4ebff;}#sk-container-id-1 div.sk-parallel-item::after {content: \"\";width: 100%;border-bottom: 1px solid gray;flex-grow: 1;}#sk-container-id-1 div.sk-label:hover label.sk-toggleable__label {background-color: #d4ebff;}#sk-container-id-1 div.sk-serial::before {content: \"\";position: absolute;border-left: 1px solid gray;box-sizing: border-box;top: 0;bottom: 0;left: 50%;z-index: 0;}#sk-container-id-1 div.sk-serial {display: flex;flex-direction: column;align-items: center;background-color: white;padding-right: 0.2em;padding-left: 0.2em;position: relative;}#sk-container-id-1 div.sk-item {position: relative;z-index: 1;}#sk-container-id-1 div.sk-parallel {display: flex;align-items: stretch;justify-content: center;background-color: white;position: relative;}#sk-container-id-1 div.sk-item::before, #sk-container-id-1 div.sk-parallel-item::before {content: \"\";position: absolute;border-left: 1px solid gray;box-sizing: border-box;top: 0;bottom: 0;left: 50%;z-index: -1;}#sk-container-id-1 div.sk-parallel-item {display: flex;flex-direction: column;z-index: 1;position: relative;background-color: white;}#sk-container-id-1 div.sk-parallel-item:first-child::after {align-self: flex-end;width: 50%;}#sk-container-id-1 div.sk-parallel-item:last-child::after {align-self: flex-start;width: 50%;}#sk-container-id-1 div.sk-parallel-item:only-child::after {width: 0;}#sk-container-id-1 div.sk-dashed-wrapped {border: 1px dashed gray;margin: 0 0.4em 0.5em 0.4em;box-sizing: border-box;padding-bottom: 0.4em;background-color: white;}#sk-container-id-1 div.sk-label label {font-family: monospace;font-weight: bold;display: inline-block;line-height: 1.2em;}#sk-container-id-1 div.sk-label-container {text-align: center;}#sk-container-id-1 div.sk-container {/* jupyter's `normalize.less` sets `[hidden] { display: none; }` but bootstrap.min.css set `[hidden] { display: none !important; }` so we also need the `!important` here to be able to override the default hidden behavior on the sphinx rendered scikit-learn.org. See: https://github.com/scikit-learn/scikit-learn/issues/21755 */display: inline-block !important;position: relative;}#sk-container-id-1 div.sk-text-repr-fallback {display: none;}</style><div id=\"sk-container-id-1\" class=\"sk-top-container\"><div class=\"sk-text-repr-fallback\"><pre>XGBRegressor(alpha=0.0, base_score=None, booster=None, callbacks=None,\n",
       "             colsample_bylevel=None, colsample_bynode=None,\n",
       "             colsample_bytree=1.0, device=None, early_stopping_rounds=None,\n",
       "             enable_categorical=False, eval_metric=None, feature_types=None,\n",
       "             gamma=0.0, grow_policy=None, importance_type=None,\n",
       "             interaction_constraints=None, lambd=0.0, learning_rate=0.01,\n",
       "             max_bin=None, max_cat_threshold=None, max_cat_to_onehot=None,\n",
       "             max_delta_step=None, max_depth=3, max_leaves=None,\n",
       "             min_child_weight=8, missing=nan, monotone_constraints=None,\n",
       "             multi_strategy=None, n_estimators=338, n_jobs=None, ...)</pre><b>In a Jupyter environment, please rerun this cell to show the HTML representation or trust the notebook. <br />On GitHub, the HTML representation is unable to render, please try loading this page with nbviewer.org.</b></div><div class=\"sk-container\" hidden><div class=\"sk-item\"><div class=\"sk-estimator sk-toggleable\"><input class=\"sk-toggleable__control sk-hidden--visually\" id=\"sk-estimator-id-1\" type=\"checkbox\" checked><label for=\"sk-estimator-id-1\" class=\"sk-toggleable__label sk-toggleable__label-arrow\">XGBRegressor</label><div class=\"sk-toggleable__content\"><pre>XGBRegressor(alpha=0.0, base_score=None, booster=None, callbacks=None,\n",
       "             colsample_bylevel=None, colsample_bynode=None,\n",
       "             colsample_bytree=1.0, device=None, early_stopping_rounds=None,\n",
       "             enable_categorical=False, eval_metric=None, feature_types=None,\n",
       "             gamma=0.0, grow_policy=None, importance_type=None,\n",
       "             interaction_constraints=None, lambd=0.0, learning_rate=0.01,\n",
       "             max_bin=None, max_cat_threshold=None, max_cat_to_onehot=None,\n",
       "             max_delta_step=None, max_depth=3, max_leaves=None,\n",
       "             min_child_weight=8, missing=nan, monotone_constraints=None,\n",
       "             multi_strategy=None, n_estimators=338, n_jobs=None, ...)</pre></div></div></div></div></div>"
      ],
      "text/plain": [
       "XGBRegressor(alpha=0.0, base_score=None, booster=None, callbacks=None,\n",
       "             colsample_bylevel=None, colsample_bynode=None,\n",
       "             colsample_bytree=1.0, device=None, early_stopping_rounds=None,\n",
       "             enable_categorical=False, eval_metric=None, feature_types=None,\n",
       "             gamma=0.0, grow_policy=None, importance_type=None,\n",
       "             interaction_constraints=None, lambd=0.0, learning_rate=0.01,\n",
       "             max_bin=None, max_cat_threshold=None, max_cat_to_onehot=None,\n",
       "             max_delta_step=None, max_depth=3, max_leaves=None,\n",
       "             min_child_weight=8, missing=nan, monotone_constraints=None,\n",
       "             multi_strategy=None, n_estimators=338, n_jobs=None, ...)"
      ]
     },
     "execution_count": 3,
     "metadata": {},
     "output_type": "execute_result"
    }
   ],
   "source": [
    "# Retrieve the best parameters\n",
    "best_params = optimizer.max['params']\n",
    "best_params['min_child_weight'] = int(best_params['min_child_weight'])\n",
    "best_params['max_depth'] = int(best_params['max_depth'])\n",
    "best_params['n_estimators'] = int(best_params['n_estimators'])\n",
    "\n",
    "# Train the final model with the best parameters\n",
    "final_xgb_model = XGBRegressor(**best_params, random_state=42)\n",
    "final_xgb_model.fit(X_train, y_train)"
   ]
  },
  {
   "cell_type": "code",
   "execution_count": 4,
   "id": "6f0b17ee",
   "metadata": {},
   "outputs": [
    {
     "data": {
      "text/plain": [
       "['model.pkl']"
      ]
     },
     "execution_count": 4,
     "metadata": {},
     "output_type": "execute_result"
    }
   ],
   "source": [
    "import joblib\n",
    "\n",
    "# Save the trained model\n",
    "joblib.dump(final_xgb_model, 'model.pkl')"
   ]
  },
  {
   "cell_type": "code",
   "execution_count": null,
   "id": "6912ece3",
   "metadata": {},
   "outputs": [],
   "source": []
  }
 ],
 "metadata": {
  "kernelspec": {
   "display_name": "Python 3 (ipykernel)",
   "language": "python",
   "name": "python3"
  },
  "language_info": {
   "codemirror_mode": {
    "name": "ipython",
    "version": 3
   },
   "file_extension": ".py",
   "mimetype": "text/x-python",
   "name": "python",
   "nbconvert_exporter": "python",
   "pygments_lexer": "ipython3",
   "version": "3.11.5"
  }
 },
 "nbformat": 4,
 "nbformat_minor": 5
}
